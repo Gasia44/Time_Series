{
 "cells": [
  {
   "cell_type": "markdown",
   "metadata": {},
   "source": [
    "<span style=\"font-size: 14pt\">EREVAN, May-June 2017</span>\n",
    "\n",
    "<span style=\"font-size: 16pt\"> HW #3: ARIMA model\n",
    "\n",
    "<span style=\"color:blue; font-size: 12pt\">Alexey Romanenko </span>,\n",
    "<span style=\"color:blue; font-size: 12pt; font-family: 'Verdana'\">alexromsput@gmail.com</span>\n",
    "\n",
    "\n",
    "<h1 align=\"center\"> Home Work 3 </h1>\n",
    "\n",
    "## Answer questions\n",
    "\n",
    "1) **Find equation for $y_t$ that corresponds to the following ARIMA model**:\n",
    " - 1) ARIMA $(p=0,d=k,q=1)$,\n",
    " - 2) ARIMA $(p=0,d=k+1,d=1)(P=1, D=1, Q=0)_s$,\n",
    "\n",
    "\n",
    "2)    ** Write canonic form of ARMA model for the time series **\n",
    " - 1) $$y_t = a_1 y_{t-1} + a_2 y_{t-4} - a_1 a_2 y_{t-5} + \\varepsilon_t$$ (Hint: seasnality period is equal to 4).\n",
    " - 2) $$y_t = y_{t-d} + \\varepsilon_t +b_2 + \\varepsilon_{t-2} + B_1 \\varepsilon_{t-s} + b_2 B_1 \\varepsilon_{t-s-2} $$\n",
    "\n",
    "    \n",
    "3) **Proof that ARIMA$(p=0,d=2, q=2)$ is equivalent to Holt (linear trend) with:**\n",
    "\t\t$$(1-L)^2Y_t = (1-\\phi_1 L-\\phi_2 L^2)\\varepsilon_t$$\n",
    "\t\t$$\\phi_1 = 2-\\alpha-\\alpha\\beta, \\text{ }\\phi_2 = \\alpha-1$$\n"
   ]
  },
  {
   "cell_type": "markdown",
   "metadata": {},
   "source": [
    "<h1 align=\"center\"> ANSWERS </h1>"
   ]
  },
  {
   "cell_type": "markdown",
   "metadata": {},
   "source": [
    "<h1 align=\"center\"> -1-</h1>"
   ]
  },
  {
   "cell_type": "markdown",
   "metadata": {},
   "source": [
    " - 1) ARIMA $(p=0,d=k,q=1)$,\n",
    " \n",
    " $$ (1-L)^k y_t = (1 - \\Phi_1 L) \\epsilon_t $$\n",
    " \n",
    " $where: \\Phi_1 = 1 - \\alpha$\n",
    " \n",
    " we can also write it in this way: \n",
    "$$(1-B)^ky_t=(1+\\theta_1 B)\\varepsilon_t $$"
   ]
  },
  {
   "cell_type": "markdown",
   "metadata": {
    "collapsed": true
   },
   "source": [
    "- 2) ARIMA $(p=0,d=k+1,q=1)(P=1, D=1, Q=0)_s$,\n",
    "\n",
    "The general model for SARIMA is: $$\\Phi_s(B^s) \\phi(B) \\triangledown^D_{s} \\triangledown^D y_t = \\alpha + \\Theta_{Q}(B^s) \\theta(B) \\varepsilon_t $$\n",
    "\n",
    "For (p=0,d=k+1,q=1)(P=1, D=1, Q=0) is:\n",
    "\n",
    "\n",
    "$$(1-\\Phi B^s)(1-B)^{k+1}(1-B^s)y_t=(1+\\theta_1 B) \\varepsilon_t$$"
   ]
  },
  {
   "cell_type": "markdown",
   "metadata": {},
   "source": [
    "<h1 align=\"center\"> -2- </h1>"
   ]
  },
  {
   "cell_type": "markdown",
   "metadata": {},
   "source": [
    "- 1) $$y_t = a_1 y_{t-1} + a_2 y_{t-4} - a_1 a_2 y_{t-5} + \\varepsilon_t$$ (Hint: seasnality period is equal to 4)."
   ]
  },
  {
   "cell_type": "markdown",
   "metadata": {},
   "source": [
    "$$ (1-a_2B^4)(1-a_1B)y_t = \\varepsilon_t $$\n",
    "\n",
    "$$\\Phi_1(B^4) \\phi(B) y_t = \\varepsilon_t$$\n",
    "\n",
    "$ARMA(p=1,q=0)(P=1,Q=0)_4$"
   ]
  },
  {
   "cell_type": "markdown",
   "metadata": {},
   "source": [
    "- 2) $$y_t = y_{t-d} + \\varepsilon_t +b_2 + \\varepsilon_{t-2} + B_1 \\varepsilon_{t-s} + b_2 B_1 \\varepsilon_{t-s-2} $$"
   ]
  },
  {
   "cell_type": "markdown",
   "metadata": {},
   "source": [
    "$$(1-B^d)y_t = (1+b_2B^2)(1+B_1B^s)\\varepsilon_t$$\n",
    "\n",
    "$ARMA(p=d,q=2)(P=0,Q=1)_s$"
   ]
  },
  {
   "cell_type": "markdown",
   "metadata": {},
   "source": [
    "<h1 align=\"center\"> -3- </h1>"
   ]
  },
  {
   "cell_type": "markdown",
   "metadata": {},
   "source": [
    "**Proof that ARIMA$(p=0,d=2, q=2)$ is equivalent to Holt (linear trend) with:**\n",
    "\t\t$$(1-L)^2Y_t = (1-\\phi_1 L-\\phi_2 L^2)\\varepsilon_t$$\n",
    "\t\t$$\\phi_1 = 2-\\alpha-\\alpha\\beta, \\text{ }\\phi_2 = \\alpha-1$$\n"
   ]
  },
  {
   "cell_type": "markdown",
   "metadata": {},
   "source": [
    "$\\hat Y_t(1-L)^2=\\alpha L(1+\\beta-L)\\varepsilon_t$"
   ]
  },
  {
   "cell_type": "markdown",
   "metadata": {},
   "source": [
    "##### left hand: $$(1-L)^2Y_t = (1 -2 L + L^2)y_t = y_t - 2 y_{t-1} + y_{t-2}$$ "
   ]
  },
  {
   "cell_type": "markdown",
   "metadata": {},
   "source": [
    "#### right hand: $$(1-\\phi_1 L-\\phi_2 L^2)\\varepsilon_t = \\varepsilon_t - \\phi_1 \\varepsilon_{t-1} - \\phi_2 \\varepsilon_{t-2}$$\n",
    "\n",
    "we have: $$\\phi_1 = 2-\\alpha-\\alpha\\beta, \\text{ }\\phi_2 = \\alpha-1$$\n",
    "\n",
    "putting in the latter we get:\n",
    "\n",
    "\\begin{align*}\n",
    "  \\varepsilon_t - \\phi_1 \\varepsilon_{t-1} - \\phi_2 \\varepsilon_{t-2} &= \\varepsilon_t -(2-\\alpha-\\alpha\\beta) \\varepsilon_{t-1} - (\\alpha-1)\\varepsilon_{t-2}\\\\\n",
    "                        &= \\varepsilon_t -(2\\varepsilon_{t-1}-\\alpha\\varepsilon_{t-1}-\\alpha\\beta\\varepsilon_{t-1})-(\\alpha\\varepsilon_{t-2}-\\varepsilon_{t-2}) \\\\\n",
    "             &= \\varepsilon_t - 2\\varepsilon_{t-1}+\\alpha\\varepsilon_{t-1}+\\alpha\\beta\\varepsilon_{t-1} -\\alpha\\varepsilon_{t-2}+\\varepsilon_{t-2}\n",
    "\\end{align*}\n",
    "\n",
    "taking into account that:\n",
    "$$\\varepsilon_{t} = y_{t} - \\hat y_{t}$$ \n",
    "$$\\varepsilon_{t-1} = y_{t-1} - \\hat y_{t-1}$$ \n",
    "$$\\varepsilon_{t-2} = y_{t-2} - \\hat y_{t-2}$$\n",
    "\n",
    "the right hand would be:\n",
    "\n",
    "\\begin{align*}\n",
    "  (1-\\phi_1 L-\\phi_2 L^2)\\varepsilon_t &= y_{t} - \\hat y_{t} + - 2(y_{t-1} - \\hat y_{t-1})+\\alpha\\varepsilon_{t-1}+\\alpha\\beta\\varepsilon_{t-1} -\\alpha\\varepsilon_{t-2}+ y_{t-2} - \\hat y_{t-2} \\\\\n",
    "  &=  y_{t} - \\hat y_{t} + - 2y_{t-1} + 2\\hat y_{t-1} + \\alpha\\varepsilon_{t-1}+\\alpha\\beta\\varepsilon_{t-1} -\\alpha\\varepsilon_{t-2}+ y_{t-2} - \\hat y_{t-2}\n",
    "\\end{align*}\n",
    "\n",
    "#### writing the left hand with the right hand:"
   ]
  },
  {
   "cell_type": "markdown",
   "metadata": {},
   "source": [
    "$$ y_t - 2 y_{t-1} + y_{t-2} = y_{t} - \\hat y_{t} + - 2y_{t-1} + 2\\hat y_{t-1} + \\alpha\\varepsilon_{t-1}+\\alpha\\beta\\varepsilon_{t-1} -\\alpha\\varepsilon_{t-2}+ y_{t-2} - \\hat y_{t-2} $$\n",
    "\n",
    "$$\\hat y_{t} = 2\\hat y_{t-1} + \\alpha\\varepsilon_{t-1}+\\alpha\\beta\\varepsilon_{t-1} -\\alpha\\varepsilon_{t-2}- \\hat y_{t-2} $$\n",
    "\n",
    "we have:\n",
    "$$ l_{t-2} = \\alpha\\varepsilon_{t-2} + \\hat y_{t-2} $$\n",
    "$$ \\hat y_{t-1} = l_{t-2}+ b_{t-2} $$\n",
    "\n",
    "putting all together:\n",
    "\n",
    "\n",
    "$$\\hat y_{t} = l_{t-2}+ b_{t-2}+ \\hat y_{t-1} + \\alpha\\varepsilon_{t-1}+ \\alpha\\beta\\varepsilon_{t-1} - l_{t-2}$$\n",
    "$$\\hat y_{t} = \\hat y_{t-1} + \\alpha\\varepsilon_{t-1}+ \\alpha\\beta\\varepsilon_{t-1}+ b_{t-2}$$\n",
    "\n",
    "we also have:\n",
    "$$l_{t-1} = \\alpha\\varepsilon_{t-1} + \\hat y_{t-1} $$\n",
    "$$ b_{t-1}=b_{t-2}+ \\alpha\\beta\\varepsilon_{t-1}$$\n",
    "\n",
    "At the end we get:\n",
    "$$\\hat y_{t} = l_{t-1} + b_{t-1} $$\n",
    "\n",
    "#### ARIMA(p=0,d=2, q=2) is equivalent to Holt (linear trend)"
   ]
  }
 ],
 "metadata": {
  "anaconda-cloud": {},
  "kernelspec": {
   "display_name": "Python 3",
   "language": "python",
   "name": "python3"
  },
  "language_info": {
   "codemirror_mode": {
    "name": "ipython",
    "version": 3
   },
   "file_extension": ".py",
   "mimetype": "text/x-python",
   "name": "python",
   "nbconvert_exporter": "python",
   "pygments_lexer": "ipython3",
   "version": "3.6.0"
  }
 },
 "nbformat": 4,
 "nbformat_minor": 1
}
